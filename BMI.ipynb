{
  "nbformat": 4,
  "nbformat_minor": 0,
  "metadata": {
    "colab": {
      "provenance": [],
      "toc_visible": true,
      "authorship_tag": "ABX9TyOsXLpNAOZcOwEby50m8Zzz",
      "include_colab_link": true
    },
    "kernelspec": {
      "name": "python3",
      "display_name": "Python 3"
    },
    "language_info": {
      "name": "python"
    }
  },
  "cells": [
    {
      "cell_type": "markdown",
      "metadata": {
        "id": "view-in-github",
        "colab_type": "text"
      },
      "source": [
        "<a href=\"https://colab.research.google.com/github/Sylvia53/tibame1224/blob/main/Untitled1.ipynb\" target=\"_parent\"><img src=\"https://colab.research.google.com/assets/colab-badge.svg\" alt=\"Open In Colab\"/></a>"
      ]
    },
    {
      "cell_type": "markdown",
      "source": [
        "# BMI = Weight / Height(m) ^ 2\n",
        "\n",
        "Weight = 55\n",
        "Height = 170\n",
        "BMI = Weight / ( Height / 100 ) ** 2\n",
        "\n",
        "print(Weighet)\n",
        "print(Height)\n",
        "print(BMI)"
      ],
      "metadata": {
        "id": "kwQfw24hyG5t"
      }
    },
    {
      "cell_type": "code",
      "source": [
        "# BMI = Weight / Height(m) ^ 2\n",
        "\n",
        "Weight = float(input(\"請輸入你的體重:\"))\n",
        "Height = float(input(\"請輸入你的身高:\"))\n",
        "BMI = (Weight) / ((Height) / 100) ** 2\n",
        "\n",
        "print(\"你的體重是: \" + str(Weight))\n",
        "print(\"你的身高是: \" + str(Height))\n",
        "print(\"你的BMI是: \" + str(BMI))\n",
        "\n",
        "if BMI<18.5:\n",
        "  print(\"體重過輕\")\n",
        "\n",
        "elif BMI>24:\n",
        "  print(\"體重過重\")\n",
        "  print(\"請少吃多動\")\n",
        "\n",
        "else:\n",
        "  print(\"體重正常\")\n"
      ],
      "metadata": {
        "colab": {
          "base_uri": "https://localhost:8080/"
        },
        "id": "esN-b4yA1wNj",
        "outputId": "ff788bfe-0cff-4d34-87ff-9a26bca11e4f"
      },
      "execution_count": 29,
      "outputs": [
        {
          "output_type": "stream",
          "name": "stdout",
          "text": [
            "請輸入你的體重:48\n",
            "請輸入你的身高:170\n",
            "你的體重是: 48.0\n",
            "你的身高是: 170.0\n",
            "你的BMI是: 16.60899653979239\n",
            "體重過輕\n"
          ]
        }
      ]
    },
    {
      "cell_type": "code",
      "execution_count": 8,
      "metadata": {
        "colab": {
          "base_uri": "https://localhost:8080/",
          "height": 53
        },
        "id": "Hfj9-QiDuozU",
        "outputId": "91c98109-7d7f-4d9f-b250-e3fb3b1d13f0"
      },
      "outputs": [
        {
          "name": "stdout",
          "output_type": "stream",
          "text": [
            "請輸入你的體重: 80\n"
          ]
        },
        {
          "output_type": "execute_result",
          "data": {
            "text/plain": [
              "'80'"
            ],
            "application/vnd.google.colaboratory.intrinsic+json": {
              "type": "string"
            }
          },
          "metadata": {},
          "execution_count": 8
        }
      ],
      "source": []
    },
    {
      "cell_type": "code",
      "source": [],
      "metadata": {
        "id": "gCMr-ooayGp8"
      },
      "execution_count": null,
      "outputs": []
    }
  ]
}
